{
 "cells": [
  {
   "cell_type": "markdown",
   "metadata": {},
   "source": [
    "# Projet Multi_commodity flow"
   ]
  },
  {
   "cell_type": "code",
   "execution_count": 2,
   "metadata": {},
   "outputs": [],
   "source": [
    "#pip install ortools\n",
    "from __future__ import print_function\n",
    "import ortools\n",
    "import ortools.linear_solver\n",
    "from ortools.linear_solver import pywraplp\n",
    "import numpy as np\n",
    "import pandas as pd\n",
    "import matplotlib.pyplot as plt\n",
    "import networkx as nx\n",
    "import string\n",
    "from ortools.graph import pywrapgraph"
   ]
  },
  {
   "cell_type": "code",
   "execution_count": 3,
   "metadata": {},
   "outputs": [],
   "source": [
    "# Create the linear solver with the GLOP backend.\n",
    "solver = pywraplp.Solver.CreateSolver('GLOP')"
   ]
  },
  {
   "cell_type": "markdown",
   "metadata": {},
   "source": [
    "### Création du graph : "
   ]
  },
  {
   "cell_type": "code",
   "execution_count": 4,
   "metadata": {
    "scrolled": true
   },
   "outputs": [
    {
     "name": "stdout",
     "output_type": "stream",
     "text": [
      "[[ 0  0  0  0  0  0  0]\n",
      " [10  0  0  0  0  0 10]\n",
      " [10 20  0  0  0  0  0]\n",
      " [ 0  0 20  0  0 20  0]\n",
      " [ 0  0 20  0  0  0 10]\n",
      " [ 0 10 20  0  0  0  0]\n",
      " [ 0  0  0  0  0  0  0]]\n",
      "[[5, 6, 1], [3, 5, 1], [4, 3, 2], [5, 2, 3], [6, 0, 2], [6, 2, 3], [2, 3, 2], [3, 1, 3], [3, 6, 2]]\n"
     ]
    }
   ],
   "source": [
    "np.random.seed(6)\n",
    "\n",
    "#taille du graphe en nombre de sommets \n",
    "# nombre de sommets\n",
    "n=7\n",
    "\n",
    "#nombre de liens\n",
    "m=10\n",
    "\n",
    "#création du graphe\n",
    "def generateGraph(n,m):\n",
    "    mat=np.zeros(shape=(n,n))\n",
    "    i=0\n",
    "    while i<m:\n",
    "        u= np.random.randint(0,n)\n",
    "        v= np.random.randint(0,n)\n",
    "        if u==v:\n",
    "            continue;\n",
    "        if mat[u][v]>1:\n",
    "            continue;\n",
    "        if np.random.randint(0,2)==0:\n",
    "            mat[u][v]=10\n",
    "        else:\n",
    "            mat[u][v]=20\n",
    "        i+=1\n",
    "    # transforme les distances en entier pour les outils google\n",
    "    mat=mat.astype(int)\n",
    "    return mat\n",
    "#création de l'instance et transformation en dataframe si besoin\n",
    "graph=generateGraph(n,m)\n",
    "print(graph)\n",
    "k=9\n",
    "#création des demandes\n",
    "def generateDemands(k):\n",
    "    demands=[]\n",
    "    i=0\n",
    "    while i<k:\n",
    "        s= np.random.randint(0,n)\n",
    "        t= np.random.randint(0,n)\n",
    "        if s==t:\n",
    "            continue;\n",
    "        demands+=[[s,t,np.random.randint(1,5)]] \n",
    "        i+=1\n",
    "    # transforme les distances en entier pour les outils google\n",
    "    return demands\n",
    "demands=generateDemands(k)\n",
    "print(demands)"
   ]
  },
  {
   "cell_type": "markdown",
   "metadata": {},
   "source": [
    "Par exemple ici la première demande va de 5 à 6 et a une capacité de 1. "
   ]
  },
  {
   "cell_type": "code",
   "execution_count": 5,
   "metadata": {},
   "outputs": [
    {
     "name": "stderr",
     "output_type": "stream",
     "text": [
      "C:\\Users\\justi\\Anaconda3\\lib\\site-packages\\networkx\\drawing\\nx_pylab.py:579: MatplotlibDeprecationWarning: \n",
      "The iterable function was deprecated in Matplotlib 3.1 and will be removed in 3.3. Use np.iterable instead.\n",
      "  if not cb.iterable(width):\n",
      "C:\\Users\\justi\\Anaconda3\\lib\\site-packages\\networkx\\drawing\\nx_pylab.py:676: MatplotlibDeprecationWarning: \n",
      "The iterable function was deprecated in Matplotlib 3.1 and will be removed in 3.3. Use np.iterable instead.\n",
      "  if cb.iterable(node_size):  # many node sizes\n"
     ]
    },
    {
     "data": {
      "image/png": "[encoded data removed]",
      "text/plain": [
       "<Figure size 432x288 with 1 Axes>"
      ]
     },
     "metadata": {},
     "output_type": "display_data"
    }
   ],
   "source": [
    "np.random.seed(0)\n",
    "\n",
    "G = nx.DiGraph()\n",
    "\n",
    "G.add_node('A', demand=-1)\n",
    "G.add_node('G', demand=1)\n",
    "G.add_edges_from([('B', 'E')], weight=1)\n",
    "G.add_edges_from([('D', 'B')], weight=1)\n",
    "G.add_edges_from([('A', 'D')], weight=2)\n",
    "G.add_edges_from([('B', 'C')], weight=3)\n",
    "G.add_edges_from([('E', 'G')], weight=2)\n",
    "G.add_edges_from([('E', 'C')], weight=3)\n",
    "G.add_edges_from([('C', 'D')], weight=2)\n",
    "G.add_edges_from([('D', 'F')], weight=3)\n",
    "G.add_edges_from([('D', 'E')], weight=2)\n",
    "\n",
    "\n",
    "edge_labels=dict([((u,v,),d['weight'])\n",
    "                 for u,v,d in G.edges(data=True)])\n",
    "\n",
    "pos=nx.spring_layout(G)\n",
    "nx.draw_networkx_edge_labels(G,pos,edge_labels=edge_labels)\n",
    "nx.draw(G, pos, with_labels = True)\n",
    "plt.draw()"
   ]
  },
  {
   "cell_type": "code",
   "execution_count": 6,
   "metadata": {},
   "outputs": [
    {
     "name": "stdout",
     "output_type": "stream",
     "text": [
      "Le cout optimal est : 4\n",
      "  Arc    Flot / Capacité  Cout\n",
      "B -> E     0  /   1         0\n",
      "D -> B     0  /   1         0\n",
      "A -> D     1  /   2         1\n",
      "B -> C     0  /   3         0\n",
      "E -> G     1  /   2         2\n",
      "E -> C     0  /   3         0\n",
      "C -> D     0  /   2         0\n",
      "D -> F     0  /   3         0\n",
      "D -> E     1  /   2         1\n",
      "D -> B     0  /   1         0\n"
     ]
    },
    {
     "data": {
      "image/png": "[encoded data removed]",
      "text/plain": [
       "<Figure size 432x288 with 1 Axes>"
      ]
     },
     "metadata": {},
     "output_type": "display_data"
    }
   ],
   "source": [
    "def main():\n",
    "    arc_depart = [1, 3, 0, 1, 4, 4, 2, 3, 3, 3]\n",
    "    arc_arrivee = [4, 1, 3, 2, 6, 2, 3, 5, 4, 1]\n",
    "    cout = [1, 0, 1, 2, 2, 1, 2, 2, 1, 0]\n",
    "    capa = [1, 1, 2, 3, 2, 3, 2, 3, 2, 1]\n",
    "    \n",
    "    offre = [1, 0, 0, 0, 0, 0, -1]\n",
    "\n",
    "    min_cost_flow = pywrapgraph.SimpleMinCostFlow()\n",
    "\n",
    "    for i in range(0, len(arc_depart)):\n",
    "        min_cost_flow.AddArcWithCapacityAndUnitCost(arc_depart[i], arc_arrivee[i],\n",
    "                                                    capa[i], cout[i])\n",
    "\n",
    "    for i in range(0, len(offre)):\n",
    "        min_cost_flow.SetNodeSupply(i, offre[i])\n",
    "\n",
    "        # Find the minimum cost flow between node 0 and node 4.\n",
    "    if min_cost_flow.Solve() == min_cost_flow.OPTIMAL:\n",
    "        print('Le cout optimal est :', min_cost_flow.OptimalCost())\n",
    "        print('  Arc    Flot / Capacité  Cout')\n",
    "        for i in range(min_cost_flow.NumArcs()):\n",
    "            debutArc = string.ascii_uppercase[min_cost_flow.Tail(i)]\n",
    "            finArc = string.ascii_uppercase[min_cost_flow.Head(i)]\n",
    "            flot = min_cost_flow.Flow(i)\n",
    "            capacite = min_cost_flow.Capacity(i)\n",
    "            cost = flot * min_cost_flow.UnitCost(i)\n",
    "            print('%1s -> %1s   %3s  / %3s       %3s' % (\n",
    "                debutArc,\n",
    "                finArc,\n",
    "                flot,\n",
    "                capacite,\n",
    "                cost))\n",
    "    else:\n",
    "        print('Probleme avec le input.')\n",
    "\n",
    "\n",
    "if __name__ == '__main__':\n",
    "    main()\n",
    "\n",
    "nx.draw_networkx_edge_labels(G,pos,edge_labels=edge_labels)\n",
    "nx.draw(G, pos, with_labels = True)\n",
    "plt.draw()"
   ]
  },
  {
   "cell_type": "code",
   "execution_count": 7,
   "metadata": {},
   "outputs": [
    {
     "data": {
      "text/plain": [
       "['A', 'D', 'E', 'G']"
      ]
     },
     "execution_count": 7,
     "metadata": {},
     "output_type": "execute_result"
    }
   ],
   "source": [
    "# Permet d'afficher le plus court chemin entre A et G\n",
    "nx.shortest_path(G,'A','G')"
   ]
  },
  {
   "cell_type": "code",
   "execution_count": 8,
   "metadata": {},
   "outputs": [
    {
     "name": "stdout",
     "output_type": "stream",
     "text": [
      "['A', 'D', 'B', 'E', 'G']\n",
      "['A', 'D', 'E', 'G']\n"
     ]
    }
   ],
   "source": [
    "# Permet de faire apparaître tous les chemins qui existent entre s1 et t1\n",
    "for path in nx.all_simple_paths(G, source='A', target='G'):\n",
    "    print(path)"
   ]
  },
  {
   "cell_type": "code",
   "execution_count": 9,
   "metadata": {},
   "outputs": [
    {
     "data": {
      "text/plain": [
       "{'A': {'D': 1},\n",
       " 'G': {},\n",
       " 'B': {'E': 0, 'C': 0},\n",
       " 'E': {'G': 1, 'C': 0},\n",
       " 'D': {'B': 0, 'F': 0, 'E': 1},\n",
       " 'C': {'D': 0},\n",
       " 'F': {}}"
      ]
     },
     "execution_count": 9,
     "metadata": {},
     "output_type": "execute_result"
    }
   ],
   "source": [
    "nx.min_cost_flow(G)"
   ]
  },
  {
   "cell_type": "code",
   "execution_count": null,
   "metadata": {},
   "outputs": [],
   "source": []
  },
  {
   "cell_type": "code",
   "execution_count": null,
   "metadata": {},
   "outputs": [],
   "source": []
  },
  {
   "cell_type": "code",
   "execution_count": 10,
   "metadata": {},
   "outputs": [
    {
     "data": {
      "image/png": "[encoded data removed]",
      "text/plain": [
       "<Figure size 432x288 with 1 Axes>"
      ]
     },
     "metadata": {},
     "output_type": "display_data"
    }
   ],
   "source": [
    "np.random.seed(0)\n",
    "\n",
    "G = nx.DiGraph()\n",
    "\n",
    "G.add_node(\"s1\", demand=-7)\n",
    "G.add_node(\"t1\", demand=7)\n",
    "G.add_edges_from([('s1', '1')], weight=9, capacity=10)\n",
    "G.add_edges_from([('s1', '2')], weight=3, capacity=4)\n",
    "G.add_edges_from([('1', '3')], weight=7, capacity=8)\n",
    "G.add_edges_from([('1', '5')], weight=2, capacity=3)\n",
    "G.add_edges_from([('2', '3')], weight=1, capacity=2)\n",
    "G.add_edges_from([('2', '4')], weight=4, capacity=7)\n",
    "G.add_edges_from([('3', '4')], weight=5, capacity=6)\n",
    "G.add_edges_from([('3', '5')], weight=2, capacity=4)\n",
    "G.add_edges_from([('5', 't1')], weight=7, capacity=8)\n",
    "G.add_edges_from([('4', 't1')], weight=10, capacity=11)\n",
    "\n",
    "\n",
    "edge_labels=dict([((u,v,),d['weight'])\n",
    "                 for u,v,d in G.edges(data=True)])\n",
    "\n",
    "pos=nx.spring_layout(G)\n",
    "nx.draw_networkx_edge_labels(G,pos,edge_labels=edge_labels)\n",
    "nx.draw(G, pos, with_labels = True)\n",
    "plt.draw()"
   ]
  },
  {
   "cell_type": "code",
   "execution_count": 11,
   "metadata": {},
   "outputs": [
    {
     "data": {
      "text/plain": [
       "['s1', '1', '5', 't1']"
      ]
     },
     "execution_count": 11,
     "metadata": {},
     "output_type": "execute_result"
    }
   ],
   "source": [
    "# Permet d'afficher le plus court chemin entre s1 et t1\n",
    "nx.shortest_path(G,'s1','t1')"
   ]
  },
  {
   "cell_type": "code",
   "execution_count": 12,
   "metadata": {},
   "outputs": [
    {
     "name": "stdout",
     "output_type": "stream",
     "text": [
      "['s1', '1', '3', '4', 't1']\n",
      "['s1', '1', '3', '5', 't1']\n",
      "['s1', '1', '5', 't1']\n",
      "['s1', '2', '3', '4', 't1']\n",
      "['s1', '2', '3', '5', 't1']\n",
      "['s1', '2', '4', 't1']\n"
     ]
    }
   ],
   "source": [
    "# Permet de faire apparaître tous les chemins qui existent entre s1 et t1\n",
    "for path in nx.all_simple_paths(G, source='s1', target='t1'):\n",
    "    print(path)"
   ]
  },
  {
   "cell_type": "code",
   "execution_count": 13,
   "metadata": {},
   "outputs": [
    {
     "data": {
      "text/plain": [
       "{'s1': {'1': 3, '2': 4},\n",
       " 't1': {},\n",
       " '1': {'3': 0, '5': 3},\n",
       " '2': {'3': 2, '4': 2},\n",
       " '3': {'4': 0, '5': 2},\n",
       " '5': {'t1': 5},\n",
       " '4': {'t1': 2}}"
      ]
     },
     "execution_count": 13,
     "metadata": {},
     "output_type": "execute_result"
    }
   ],
   "source": [
    "nx.min_cost_flow(G)"
   ]
  },
  {
   "cell_type": "code",
   "execution_count": null,
   "metadata": {},
   "outputs": [],
   "source": []
  },
  {
   "cell_type": "markdown",
   "metadata": {},
   "source": [
    "### Code Samy"
   ]
  },
  {
   "cell_type": "code",
   "execution_count": 14,
   "metadata": {},
   "outputs": [
    {
     "name": "stdout",
     "output_type": "stream",
     "text": [
      "Le cout optimal est : 150\n",
      "  Arc    Flot / Capacité  Cout\n",
      "A -> B    12  /  15        48\n",
      "A -> C     8  /   8        32\n",
      "B -> C     8  /  20        16\n",
      "B -> D     4  /   4         8\n",
      "B -> E     0  /  10         0\n",
      "C -> D    12  /  15        12\n",
      "C -> E     4  /   4        12\n",
      "D -> E    11  /  20        22\n",
      "E -> C     0  /   5         0\n"
     ]
    }
   ],
   "source": [
    "def main():\n",
    "    arc_depart = [0, 0, 1, 1, 1, 2, 2, 3, 4]\n",
    "    arc_arrivee = [1, 2, 2, 3, 4, 3, 4, 4, 2]\n",
    "    cout = [4, 4, 2, 2, 6, 1, 3, 2, 3]\n",
    "    capa = [15, 8, 20, 4, 10, 15, 4, 20, 5]\n",
    "    \n",
    "    offre = [20, 0, 0, -5, -15]\n",
    "\n",
    "    min_cost_flow = pywrapgraph.SimpleMinCostFlow()\n",
    "\n",
    "    for i in range(0, len(arc_depart)):\n",
    "        min_cost_flow.AddArcWithCapacityAndUnitCost(arc_depart[i], arc_arrivee[i],\n",
    "                                                    capa[i], cout[i])\n",
    "\n",
    "    for i in range(0, len(offre)):\n",
    "        min_cost_flow.SetNodeSupply(i, offre[i])\n",
    "\n",
    "        # Find the minimum cost flow between node 0 and node 4.\n",
    "    if min_cost_flow.Solve() == min_cost_flow.OPTIMAL:\n",
    "        print('Le cout optimal est :', min_cost_flow.OptimalCost())\n",
    "        print('  Arc    Flot / Capacité  Cout')\n",
    "        for i in range(min_cost_flow.NumArcs()):\n",
    "            debutArc = string.ascii_uppercase[min_cost_flow.Tail(i)]\n",
    "            finArc = string.ascii_uppercase[min_cost_flow.Head(i)]\n",
    "            flot = min_cost_flow.Flow(i)\n",
    "            capacite = min_cost_flow.Capacity(i)\n",
    "            cost = flot * min_cost_flow.UnitCost(i)\n",
    "            #cost = flot * flot ??\n",
    "            print('%1s -> %1s   %3s  / %3s       %3s' % (\n",
    "                debutArc,\n",
    "                finArc,\n",
    "                flot,\n",
    "                capacite,\n",
    "                cost))\n",
    "    else:\n",
    "        print('Probleme avec le input.')\n",
    "\n",
    "\n",
    "if __name__ == '__main__':\n",
    "    main()"
   ]
  },
  {
   "cell_type": "code",
   "execution_count": 15,
   "metadata": {},
   "outputs": [
    {
     "data": {
      "image/png": "[encoded data removed]",
      "text/plain": [
       "<Figure size 432x288 with 1 Axes>"
      ]
     },
     "metadata": {},
     "output_type": "display_data"
    }
   ],
   "source": [
    "np.random.seed(4)\n",
    "\n",
    "G = nx.DiGraph()\n",
    "\n",
    "G.add_node('A', demand=-20)\n",
    "G.add_node('D', demand=5)\n",
    "G.add_node('E', demand=15)\n",
    "# weight correspond au coût du lien\n",
    "G.add_edges_from([('A', 'B')], weight=4, capacity=15)\n",
    "G.add_edges_from([('A', 'C')], weight=4, capacity=8)\n",
    "G.add_edges_from([('B', 'C')], weight=2, capacity=20)\n",
    "G.add_edges_from([('B', 'D')], weight=2, capacity=4)\n",
    "G.add_edges_from([('B', 'E')], weight=6, capacity=10)\n",
    "G.add_edges_from([('C', 'D')], weight=1, capacity=15)\n",
    "G.add_edges_from([('C', 'E')], weight=3, capacity=4)\n",
    "G.add_edges_from([('D', 'E')], weight=2, capacity=20)\n",
    "G.add_edges_from([('E', 'C')], weight=3, capacity=5)\n",
    "\n",
    "\n",
    "edge_labels=dict([((u,v,),d['capacity'])\n",
    "                 for u,v,d in G.edges(data=True)])\n",
    "\n",
    "pos=nx.spring_layout(G)\n",
    "nx.draw_networkx_edge_labels(G,pos,edge_labels=edge_labels)\n",
    "nx.draw(G, pos, with_labels = True)\n",
    "plt.draw()"
   ]
  },
  {
   "cell_type": "code",
   "execution_count": 16,
   "metadata": {},
   "outputs": [
    {
     "name": "stdout",
     "output_type": "stream",
     "text": [
      "Plus court chemin entre A et D : \n",
      "['A', 'B', 'D']\n",
      "Plus court chemin entre A et E : \n",
      "['A', 'B', 'E']\n"
     ]
    }
   ],
   "source": [
    "# Permet d'afficher le plus court chemin entre A et D\n",
    "print('Plus court chemin entre A et D : ')\n",
    "print(nx.shortest_path(G,'A','D'))\n",
    "# Permet d'afficher le plus court chemin entre A et D\n",
    "print('Plus court chemin entre A et E : ')\n",
    "print(nx.shortest_path(G,'A','E'))"
   ]
  },
  {
   "cell_type": "code",
   "execution_count": 17,
   "metadata": {},
   "outputs": [
    {
     "name": "stdout",
     "output_type": "stream",
     "text": [
      "Tous les chemins qui existent entre A et D : \n",
      "['A', 'B', 'C', 'D']\n",
      "['A', 'B', 'D']\n",
      "['A', 'B', 'E', 'C', 'D']\n",
      "['A', 'C', 'D']\n",
      "Tous les chemins qui existent entre A et E : \n",
      "['A', 'B', 'C', 'D', 'E']\n",
      "['A', 'B', 'C', 'E']\n",
      "['A', 'B', 'D', 'E']\n",
      "['A', 'B', 'E']\n",
      "['A', 'C', 'D', 'E']\n",
      "['A', 'C', 'E']\n"
     ]
    }
   ],
   "source": [
    "# Permet de faire apparaître tous les chemins qui existent entre A et D\n",
    "print('Tous les chemins qui existent entre A et D : ')\n",
    "for path in nx.all_simple_paths(G, source='A', target='D'):\n",
    "    print(path)\n",
    "# Permet de faire apparaître tous les chemins qui existent entre A et E\n",
    "print('Tous les chemins qui existent entre A et E : ')\n",
    "for path in nx.all_simple_paths(G, source='A', target='E'):\n",
    "    print(path)"
   ]
  },
  {
   "cell_type": "code",
   "execution_count": 18,
   "metadata": {},
   "outputs": [
    {
     "data": {
      "text/plain": [
       "{'A': {'B': 12, 'C': 8},\n",
       " 'D': {'E': 11},\n",
       " 'E': {'C': 0},\n",
       " 'B': {'C': 8, 'D': 4, 'E': 0},\n",
       " 'C': {'D': 12, 'E': 4}}"
      ]
     },
     "execution_count": 18,
     "metadata": {},
     "output_type": "execute_result"
    }
   ],
   "source": [
    "nx.min_cost_flow(G)"
   ]
  },
  {
   "cell_type": "code",
   "execution_count": null,
   "metadata": {},
   "outputs": [],
   "source": []
  },
  {
   "cell_type": "markdown",
   "metadata": {},
   "source": [
    "### Boucle pour générer un graph aléatoire "
   ]
  },
  {
   "cell_type": "code",
   "execution_count": 19,
   "metadata": {},
   "outputs": [
    {
     "name": "stdout",
     "output_type": "stream",
     "text": [
      "8\n",
      "16\n"
     ]
    }
   ],
   "source": [
    "from random import randint\n",
    "# On choisit aléatoirement n le nombre de sommets : \n",
    "n = randint(4,10)\n",
    "print(n)\n",
    "# Puis m le nombre de liens : \n",
    "m = randint(n-1,n*2)\n",
    "print(m)"
   ]
  },
  {
   "cell_type": "code",
   "execution_count": 20,
   "metadata": {},
   "outputs": [
    {
     "name": "stdout",
     "output_type": "stream",
     "text": [
      "[0, 0, 0, 0, 1, 1, 2, 2, 3, 3, 3, 4, 5, 5, 6, 8]\n"
     ]
    }
   ],
   "source": [
    "# On crée notre vecteur contenant les sommets d'où les arcs partent \n",
    "dep = [0]\n",
    "for i in range(m-1) : \n",
    "    a = randint(0,n)\n",
    "    dep.append(a)\n",
    "\n",
    "dep.sort()\n",
    "print(dep)"
   ]
  },
  {
   "cell_type": "code",
   "execution_count": 21,
   "metadata": {},
   "outputs": [
    {
     "name": "stdout",
     "output_type": "stream",
     "text": [
      "[6, 7, 5, 8, 7, 4, 1, 6, 8, 4, 7, 6, 2, 7, 7, 5]\n"
     ]
    }
   ],
   "source": [
    "# Puis le vecteur contenant les sommets d'où les arcs arrivent \n",
    "arr = []\n",
    "acc = []\n",
    "i=0\n",
    "while i < m :\n",
    "    a = randint(0,n)\n",
    "    if a != dep[i] and (dep[i],a) not in acc : \n",
    "        arr.append(a)\n",
    "        acc.append((dep[i],arr[i]))\n",
    "        i+=1\n",
    "    elif a != n and (dep[i],a+1) not in acc and a+1 != dep[i] : \n",
    "        arr.append(a+1)\n",
    "        acc.append((dep[i],arr[i]))\n",
    "        i+=1\n",
    "    elif a != 0 and (dep[i],a-1) not in acc and a-1 != dep[i]: \n",
    "        arr.append(a-1)\n",
    "        acc.append((dep[i],arr[i]))\n",
    "        i+=1\n",
    "    else : \n",
    "        i=i\n",
    "\n",
    "while n not in arr :\n",
    "    a = randint(0,m)\n",
    "    if (dep[a],n) not in acc :\n",
    "        arr[a] = n\n",
    "\n",
    "print(arr)"
   ]
  },
  {
   "cell_type": "code",
   "execution_count": 22,
   "metadata": {},
   "outputs": [
    {
     "name": "stdout",
     "output_type": "stream",
     "text": [
      "[3, 6, 6, 7, 4, 4, 7, 8, 8, 1, 1, 6, 8, 8, 4, 3]\n"
     ]
    }
   ],
   "source": [
    "# On crée le vecteur de coûts associés aux arcs \n",
    "ct = []\n",
    "for i in range(m) :\n",
    "    a = randint(1,n)\n",
    "    ct.append(a)\n",
    "\n",
    "print(ct)"
   ]
  },
  {
   "cell_type": "code",
   "execution_count": 23,
   "metadata": {},
   "outputs": [
    {
     "name": "stdout",
     "output_type": "stream",
     "text": [
      "[9, 10, 9, 14, 12, 7, 8, 9, 14, 11, 4, 15, 9, 13, 12, 16]\n"
     ]
    }
   ],
   "source": [
    "# Et le vecteur de capacités des arcs\n",
    "cap = []\n",
    "for i in range(m) :\n",
    "    a = randint(0,n*2)\n",
    "    if a > ct[i] :\n",
    "        cap.append(a)\n",
    "    else :\n",
    "        cap.append(ct[i]+1)\n",
    "\n",
    "print(cap)"
   ]
  },
  {
   "cell_type": "code",
   "execution_count": 24,
   "metadata": {},
   "outputs": [
    {
     "name": "stdout",
     "output_type": "stream",
     "text": [
      "[10, 16, 0, 0, 0, 0, -11, -15]\n"
     ]
    }
   ],
   "source": [
    "# Enfin on crée un vecteur offre qui contient les offres (pour les 2 sources) et les demandes (pour les 2 destinations)\n",
    "off = []\n",
    "offre_demande = randint(n,n*4)\n",
    "o1 = randint(0,offre_demande)\n",
    "o2 = offre_demande - o1\n",
    "d1 = -randint(0,offre_demande)\n",
    "d2 = -offre_demande - d1\n",
    "\n",
    "for i in range(n) :\n",
    "    if i == 0 : \n",
    "        off.append(o1)\n",
    "    elif i == 1 : \n",
    "        off.append(o2)\n",
    "    elif i == n-1 :\n",
    "        off.append(d1)\n",
    "    elif i == n-2 :\n",
    "        off.append(d2)\n",
    "    else :\n",
    "        off.append(0)\n",
    "\n",
    "print(off)        "
   ]
  },
  {
   "cell_type": "code",
   "execution_count": 25,
   "metadata": {},
   "outputs": [
    {
     "name": "stdout",
     "output_type": "stream",
     "text": [
      "Le cout optimal est : 127\n",
      "  Arc    Flot / Capacité  Cout\n",
      "A -> G     7  /   9        21\n",
      "A -> H     3  /  10        18\n",
      "A -> F     0  /   9         0\n",
      "A -> I     0  /  14         0\n",
      "B -> H    12  /  12        48\n",
      "B -> E     4  /   7        16\n",
      "C -> B     0  /   8         0\n",
      "C -> G     0  /   9         0\n",
      "D -> I     0  /  14         0\n",
      "D -> E     0  /  11         0\n",
      "D -> H     0  /   4         0\n",
      "E -> G     4  /  15        24\n",
      "F -> C     0  /   9         0\n",
      "F -> H     0  /  13         0\n",
      "G -> H     0  /  12         0\n",
      "I -> F     0  /  16         0\n"
     ]
    }
   ],
   "source": [
    "def main(arc_depart,arc_arrivee,cout,capa,offre):\n",
    "\n",
    "    min_cost_flow = pywrapgraph.SimpleMinCostFlow()\n",
    "    \n",
    "    for i in range(0, len(arc_depart)):\n",
    "        min_cost_flow.AddArcWithCapacityAndUnitCost(arc_depart[i], arc_arrivee[i],\n",
    "                                                    capa[i], cout[i])\n",
    "\n",
    "    for i in range(0, len(offre)):\n",
    "        min_cost_flow.SetNodeSupply(i, offre[i])\n",
    "\n",
    "        # Find the minimum cost flow between node 0 and node 4.\n",
    "    if min_cost_flow.Solve() == min_cost_flow.OPTIMAL:\n",
    "        print('Le cout optimal est :', min_cost_flow.OptimalCost())\n",
    "        print('  Arc    Flot / Capacité  Cout')\n",
    "        for i in range(min_cost_flow.NumArcs()):\n",
    "            debutArc = string.ascii_uppercase[min_cost_flow.Tail(i)]\n",
    "            finArc = string.ascii_uppercase[min_cost_flow.Head(i)]\n",
    "            flot = min_cost_flow.Flow(i)\n",
    "            capacite = min_cost_flow.Capacity(i)\n",
    "            cost = flot * min_cost_flow.UnitCost(i)\n",
    "            print('%1s -> %1s   %3s  / %3s       %3s' % (\n",
    "                debutArc,\n",
    "                finArc,\n",
    "                flot,\n",
    "                capacite,\n",
    "                cost))\n",
    "    else:\n",
    "        print('Probleme avec le input.')\n",
    "        \n",
    "        \n",
    "if __name__ == '__main__':\n",
    "    main(dep,arr,ct,cap,off)"
   ]
  },
  {
   "cell_type": "code",
   "execution_count": 26,
   "metadata": {},
   "outputs": [
    {
     "data": {
      "image/png": "[encoded data removed]",
      "text/plain": [
       "<Figure size 432x288 with 1 Axes>"
      ]
     },
     "metadata": {},
     "output_type": "display_data"
    }
   ],
   "source": [
    "np.random.seed(0)\n",
    "\n",
    "G = nx.DiGraph()      \n",
    "    \n",
    "G.add_node('A', demand=-20)\n",
    "G.add_node('D', demand=5)\n",
    "G.add_node('E', demand=15)\n",
    "# weight correspond au coût du lien\n",
    "G.add_edges_from([('A', 'B')], weight=4, capacity=15)\n",
    "G.add_edges_from([('A', 'C')], weight=4, capacity=8)\n",
    "G.add_edges_from([('B', 'C')], weight=2, capacity=20)\n",
    "G.add_edges_from([('B', 'D')], weight=2, capacity=4)\n",
    "G.add_edges_from([('B', 'E')], weight=6, capacity=10)\n",
    "G.add_edges_from([('C', 'D')], weight=1, capacity=15)\n",
    "G.add_edges_from([('C', 'E')], weight=3, capacity=4)\n",
    "G.add_edges_from([('D', 'E')], weight=2, capacity=20)\n",
    "G.add_edges_from([('E', 'C')], weight=3, capacity=5)\n",
    "\n",
    "\n",
    "edge_labels=dict([((u,v,),d['capacity'])\n",
    "                 for u,v,d in G.edges(data=True)])\n",
    "\n",
    "pos=nx.spring_layout(G)\n",
    "nx.draw_networkx_edge_labels(G,pos,edge_labels=edge_labels)\n",
    "nx.draw(G, pos, with_labels = True)\n",
    "plt.draw()"
   ]
  },
  {
   "cell_type": "code",
   "execution_count": 35,
   "metadata": {},
   "outputs": [
    {
     "name": "stdout",
     "output_type": "stream",
     "text": [
      "Le cout optimal est : 120\n",
      "  Arc    Flot / Capacité  Cout\n",
      "A -> F     4  /  13         4\n",
      "A -> G    17  /  21        51\n",
      "B -> E     0  /  21         0\n",
      "B -> A    13  /  13        65\n",
      "D -> C     0  /  18         0\n",
      "D -> H     0  /  20         0\n",
      "H -> D     0  /  21         0\n",
      "Nombre de sommets : 7\n",
      "Nombre de liens : 7\n",
      "Liste des arcs de départ des liens : [0, 0, 1, 1, 3, 3, 7]\n",
      "Liste des arcs d'arrivée des liens : [5, 6, 4, 0, 2, 7, 3]\n",
      "Liste des offres pour chaque sommet : [8, 13, 0, 0, 0, -4, -17]\n",
      "Liste des coûts pour chaque lien : [1, 3, 2, 5, 7, 1, 2]\n",
      "Liste des capacités pour chaque lien : [13, 21, 21, 13, 18, 20, 21]\n",
      "Plus court chemin entre A et G : \n",
      "['A', 'G']\n",
      "Tous les chemins qui existent entre A et G : \n",
      "['A', 'G']\n",
      "Plus court chemin entre A et F : \n",
      "['A', 'F']\n",
      "Tous les chemins qui existent entre A et F : \n",
      "['A', 'F']\n",
      "Plus court chemin entre B et G : \n",
      "['A', 'G']\n",
      "Tous les chemins qui existent entre A et G : \n",
      "['A', 'G']\n",
      "Plus court chemin entre B et F : \n",
      "['A', 'F']\n",
      "Tous les chemins qui existent entre A et F : \n",
      "['A', 'F']\n"
     ]
    },
    {
     "data": {
      "text/plain": [
       "{'A': {'F': 4, 'G': 17},\n",
       " 'B': {'E': 0, 'A': 13},\n",
       " 'G': {},\n",
       " 'F': {},\n",
       " 'E': {},\n",
       " 'D': {'C': 0, 'H': 0},\n",
       " 'C': {},\n",
       " 'H': {'D': 0}}"
      ]
     },
     "execution_count": 35,
     "metadata": {},
     "output_type": "execute_result"
    },
    {
     "data": {
      "image/png": "[encoded data removed]",
      "text/plain": [
       "<Figure size 432x288 with 1 Axes>"
      ]
     },
     "metadata": {},
     "output_type": "display_data"
    }
   ],
   "source": [
    "from random import randint\n",
    "\n",
    "def main(arc_depart,arc_arrivee,cout,capa,offre):\n",
    "    min_cost_flow = pywrapgraph.SimpleMinCostFlow()\n",
    "    for i in range(0, len(arc_depart)):\n",
    "        min_cost_flow.AddArcWithCapacityAndUnitCost(arc_depart[i], arc_arrivee[i],\n",
    "                                                    capa[i], cout[i])\n",
    "    for i in range(0, len(offre)):\n",
    "        min_cost_flow.SetNodeSupply(i, offre[i])\n",
    "        # Find the minimum cost flow between node 0 and node 4.\n",
    "    if min_cost_flow.Solve() == min_cost_flow.OPTIMAL:\n",
    "        print('Le cout optimal est :', min_cost_flow.OptimalCost())\n",
    "        print('  Arc    Flot / Capacité  Cout')\n",
    "        for i in range(min_cost_flow.NumArcs()):\n",
    "            debutArc = string.ascii_uppercase[min_cost_flow.Tail(i)]\n",
    "            finArc = string.ascii_uppercase[min_cost_flow.Head(i)]\n",
    "            flot = min_cost_flow.Flow(i)\n",
    "            capacite = min_cost_flow.Capacity(i)\n",
    "            cost = flot * min_cost_flow.UnitCost(i)\n",
    "            print('%1s -> %1s   %3s  / %3s       %3s' % (\n",
    "                debutArc,\n",
    "                finArc,\n",
    "                flot,\n",
    "                capacite,\n",
    "                cost))\n",
    "        res = \"\"\n",
    "    else:\n",
    "        res = 'Probleme avec le input.'\n",
    "    return(res)\n",
    "        \n",
    "res = 'Probleme avec le input.'\n",
    "while res == 'Probleme avec le input.' :\n",
    "    # On choisit aléatoirement n le nombre de sommets : \n",
    "    n = randint(4,10)\n",
    "    # Puis m le nombre de liens : \n",
    "    m = randint(n-1,n*2)\n",
    "    \n",
    "    # On crée notre vecteur contenant les sommets d'où les arcs partent \n",
    "    dep = [0]\n",
    "    for i in range(m-1) : \n",
    "        a = randint(0,n)\n",
    "        dep.append(a)\n",
    "    dep.sort()\n",
    "\n",
    "    # Puis le vecteur contenant les sommets d'où les arcs arrivent \n",
    "    arr = []\n",
    "    acc = []\n",
    "    i=0\n",
    "    while i < m :\n",
    "        a = randint(0,n)\n",
    "        if a != dep[i] and (dep[i],a) not in acc : \n",
    "            arr.append(a)\n",
    "            acc.append((dep[i],arr[i]))\n",
    "            i+=1\n",
    "        elif a != n and (dep[i],a+1) not in acc and a+1 != dep[i] : \n",
    "            arr.append(a+1)\n",
    "            acc.append((dep[i],arr[i]))\n",
    "            i+=1\n",
    "        elif a != 0 and (dep[i],a-1) not in acc and a-1 != dep[i]: \n",
    "            arr.append(a-1)\n",
    "            acc.append((dep[i],arr[i]))\n",
    "            i+=1\n",
    "        else : \n",
    "            i=i\n",
    "    while n not in arr :\n",
    "        a = randint(0,m)\n",
    "        if a != m :\n",
    "            if (dep[a],n) not in acc :\n",
    "                arr[a] = n\n",
    "        else :\n",
    "            a = a-1\n",
    "            if (dep[a],n) not in acc :\n",
    "                arr[a] = n\n",
    "    \n",
    "    # On crée un vecteur offre qui contient les offres (pour les 2 sources) et les demandes (pour les 2 destinations)\n",
    "    off = []\n",
    "    offre_demande = randint(n,n*4)\n",
    "    o1 = randint(0,offre_demande)\n",
    "    o2 = offre_demande - o1\n",
    "    d1 = -randint(0,offre_demande)\n",
    "    d2 = -offre_demande - d1\n",
    "    for i in range(n) :\n",
    "        if i == 0 : \n",
    "            off.append(o1)\n",
    "        elif i == 1 : \n",
    "            off.append(o2)\n",
    "        elif i == n-1 :\n",
    "            off.append(d1)\n",
    "        elif i == n-2 :\n",
    "            off.append(d2)\n",
    "        else :\n",
    "            off.append(0)\n",
    "\n",
    "    # On crée le vecteur de coûts associés aux arcs \n",
    "    ct = []\n",
    "    for i in range(m) :\n",
    "        a = randint(1,n)\n",
    "        ct.append(a)\n",
    "    \n",
    "    # Et le vecteur de capacités des arcs\n",
    "    cap = []\n",
    "    for i in range(m) :\n",
    "        a = randint(offre_demande//2,offre_demande)\n",
    "        if a > ct[i] :\n",
    "            cap.append(a)\n",
    "        else :\n",
    "            cap.append(ct[i]+1)\n",
    "    \n",
    "    res = main(dep,arr,ct,cap,off)\n",
    "\n",
    "\n",
    "print('Nombre de sommets :',n)    \n",
    "print('Nombre de liens :',m)    \n",
    "print('Liste des arcs de départ des liens :',dep) \n",
    "print('Liste des arcs d\\'arrivée des liens :',arr) \n",
    "print('Liste des offres pour chaque sommet :',off)         \n",
    "print('Liste des coûts pour chaque lien :',ct) \n",
    "print('Liste des capacités pour chaque lien :',cap)\n",
    "\n",
    "np.random.seed(0)\n",
    "G = nx.DiGraph()\n",
    "\n",
    "if off[0] != 0 :\n",
    "    G.add_node('A', demand=-off[0])\n",
    "if off[1] != 0 :\n",
    "    G.add_node('B', demand=-off[1])\n",
    "if off[len(off)-1] != 0 :\n",
    "    G.add_node(string.ascii_uppercase[n-1], demand=-off[len(off)-1])    \n",
    "if off[len(off)-2] != 0 :\n",
    "    G.add_node(string.ascii_uppercase[n-2], demand=-off[len(off)-2])        \n",
    "    \n",
    "for i in range(n) :\n",
    "    G.add_edges_from([(string.ascii_uppercase[dep[i]], string.ascii_uppercase[arr[i]])], weight=ct[i], capacity=cap[i])\n",
    "    # weight correspond au coût du lien\n",
    "\n",
    "edge_labels=dict([((u,v,),d['capacity'])\n",
    "                 for u,v,d in G.edges(data=True)])\n",
    "\n",
    "pos=nx.spring_layout(G)\n",
    "nx.draw_networkx_edge_labels(G,pos,edge_labels=edge_labels)\n",
    "nx.draw(G, pos, with_labels = True)\n",
    "plt.draw()\n",
    "\n",
    "# Permet d'afficher le plus court chemin entre les différentes sources et les différentes destinations\n",
    "if off[0] != 0 and off[len(off)-1] != 0 :\n",
    "    print('Plus court chemin entre A et %s : ' %(string.ascii_uppercase[n-1]))\n",
    "    print(nx.shortest_path(G,'A',string.ascii_uppercase[n-1]))\n",
    "    print('Tous les chemins qui existent entre A et %s : ' %(string.ascii_uppercase[n-1]))\n",
    "    for path in nx.all_simple_paths(G, source='A', target=string.ascii_uppercase[n-1]):\n",
    "        print(path)\n",
    "if off[0] != 0 and off[len(off)-2] != 0 :\n",
    "    print('Plus court chemin entre A et %s : ' %(string.ascii_uppercase[n-2]))\n",
    "    print(nx.shortest_path(G,'A',string.ascii_uppercase[n-2]))\n",
    "    print('Tous les chemins qui existent entre A et %s : ' %(string.ascii_uppercase[n-2]))\n",
    "    for path in nx.all_simple_paths(G, source='A', target=string.ascii_uppercase[n-2]):\n",
    "        print(path)\n",
    "if off[1] != 0 and off[len(off)-1] != 0 :\n",
    "    print('Plus court chemin entre B et %s : ' %(string.ascii_uppercase[n-1]))\n",
    "    print(nx.shortest_path(G,'A',string.ascii_uppercase[n-1]))\n",
    "    print('Tous les chemins qui existent entre A et %s : ' %(string.ascii_uppercase[n-1]))\n",
    "    for path in nx.all_simple_paths(G, source='A', target=string.ascii_uppercase[n-1]):\n",
    "        print(path)\n",
    "if off[1] != 0 and off[len(off)-2] != 0 :\n",
    "    print('Plus court chemin entre B et %s : ' %(string.ascii_uppercase[n-2]))\n",
    "    print(nx.shortest_path(G,'A',string.ascii_uppercase[n-2]))\n",
    "    print('Tous les chemins qui existent entre A et %s : ' %(string.ascii_uppercase[n-2]))\n",
    "    for path in nx.all_simple_paths(G, source='A', target=string.ascii_uppercase[n-2]):\n",
    "        print(path)\n",
    "\n",
    "nx.min_cost_flow(G)"
   ]
  },
  {
   "cell_type": "code",
   "execution_count": null,
   "metadata": {},
   "outputs": [],
   "source": []
  },
  {
   "cell_type": "code",
   "execution_count": null,
   "metadata": {},
   "outputs": [],
   "source": []
  }
 ],
 "metadata": {
  "kernelspec": {
   "display_name": "Python 3",
   "language": "python",
   "name": "python3"
  },
  "language_info": {
   "codemirror_mode": {
    "name": "ipython",
    "version": 3
   },
   "file_extension": ".py",
   "mimetype": "text/x-python",
   "name": "python",
   "nbconvert_exporter": "python",
   "pygments_lexer": "ipython3",
   "version": "3.7.3"
  }
 },
 "nbformat": 4,
 "nbformat_minor": 2
}
