{
 "cells": [
  {
   "cell_type": "markdown",
   "metadata": {},
   "source": [
    "# Projet Multi_commodity flow"
   ]
  },
  {
   "cell_type": "code",
   "execution_count": 1,
   "metadata": {},
   "outputs": [],
   "source": [
    "#pip install ortools\n",
    "from __future__ import print_function\n",
    "import ortools\n",
    "import ortools.linear_solver\n",
    "from ortools.linear_solver import pywraplp\n",
    "import numpy as np\n",
    "import pandas as pd\n",
    "import matplotlib.pyplot as plt\n",
    "import networkx as nx\n",
    "import string\n",
    "from ortools.graph import pywrapgraph"
   ]
  },
  {
   "cell_type": "code",
   "execution_count": 2,
   "metadata": {},
   "outputs": [],
   "source": [
    "# Create the linear solver with the GLOP backend.\n",
    "solver = pywraplp.Solver.CreateSolver('GLOP')"
   ]
  },
  {
   "cell_type": "markdown",
   "metadata": {},
   "source": [
    "### Création du graph : "
   ]
  },
  {
   "cell_type": "code",
   "execution_count": 48,
   "metadata": {
    "scrolled": true
   },
   "outputs": [
    {
     "name": "stdout",
     "output_type": "stream",
     "text": [
      "[[ 0  0  0  0  0  0  0]\n",
      " [10  0  0  0  0  0 10]\n",
      " [10 20  0  0  0  0  0]\n",
      " [ 0  0 20  0  0 20  0]\n",
      " [ 0  0 20  0  0  0 10]\n",
      " [ 0 10 20  0  0  0  0]\n",
      " [ 0  0  0  0  0  0  0]]\n",
      "[[5, 6, 1], [3, 5, 1], [4, 3, 2], [5, 2, 3], [6, 0, 2], [6, 2, 3], [2, 3, 2], [3, 1, 3], [3, 6, 2]]\n"
     ]
    }
   ],
   "source": [
    "np.random.seed(6)\n",
    "\n",
    "#taille du graphe en nombre de sommets \n",
    "# nombre de sommets\n",
    "n=7\n",
    "\n",
    "#nombre de liens\n",
    "m=10\n",
    "\n",
    "#création du graphe\n",
    "def generateGraph(n,m):\n",
    "    mat=np.zeros(shape=(n,n))\n",
    "    i=0\n",
    "    while i<m:\n",
    "        u= np.random.randint(0,n)\n",
    "        v= np.random.randint(0,n)\n",
    "        if u==v:\n",
    "            continue;\n",
    "        if mat[u][v]>1:\n",
    "            continue;\n",
    "        if np.random.randint(0,2)==0:\n",
    "            mat[u][v]=10\n",
    "        else:\n",
    "            mat[u][v]=20\n",
    "        i+=1\n",
    "    # transforme les distances en entier pour les outils google\n",
    "    mat=mat.astype(int)\n",
    "    return mat\n",
    "#création de l'instance et transformation en dataframe si besoin\n",
    "graph=generateGraph(n,m)\n",
    "print(graph)\n",
    "k=9\n",
    "#création des demandes\n",
    "def generateDemands(k):\n",
    "    demands=[]\n",
    "    i=0\n",
    "    while i<k:\n",
    "        s= np.random.randint(0,n)\n",
    "        t= np.random.randint(0,n)\n",
    "        if s==t:\n",
    "            continue;\n",
    "        demands+=[[s,t,np.random.randint(1,5)]] \n",
    "        i+=1\n",
    "    # transforme les distances en entier pour les outils google\n",
    "    return demands\n",
    "demands=generateDemands(k)\n",
    "print(demands)"
   ]
  },
  {
   "cell_type": "markdown",
   "metadata": {},
   "source": [
    "Par exemple ici la première demande va de 5 à 6 et a une capacité de 1. "
   ]
  },
  {
   "cell_type": "code",
   "execution_count": 74,
   "metadata": {},
   "outputs": [
    {
     "ename": "KeyError",
     "evalue": "'capacity'",
     "output_type": "error",
     "traceback": [
      "\u001b[1;31m---------------------------------------------------------------------------\u001b[0m",
      "\u001b[1;31mKeyError\u001b[0m                                  Traceback (most recent call last)",
      "\u001b[1;32m<ipython-input-74-4aeebcaf5295>\u001b[0m in \u001b[0;36m<module>\u001b[1;34m\u001b[0m\n\u001b[0;32m     17\u001b[0m \u001b[1;33m\u001b[0m\u001b[0m\n\u001b[0;32m     18\u001b[0m edge_labels=dict([((u,v,),d['capacity'])\n\u001b[1;32m---> 19\u001b[1;33m                  for u,v,d in G.edges(data=True)])\n\u001b[0m\u001b[0;32m     20\u001b[0m \u001b[1;33m\u001b[0m\u001b[0m\n\u001b[0;32m     21\u001b[0m \u001b[0mpos\u001b[0m\u001b[1;33m=\u001b[0m\u001b[0mnx\u001b[0m\u001b[1;33m.\u001b[0m\u001b[0mspring_layout\u001b[0m\u001b[1;33m(\u001b[0m\u001b[0mG\u001b[0m\u001b[1;33m)\u001b[0m\u001b[1;33m\u001b[0m\u001b[1;33m\u001b[0m\u001b[0m\n",
      "\u001b[1;32m<ipython-input-74-4aeebcaf5295>\u001b[0m in \u001b[0;36m<listcomp>\u001b[1;34m(.0)\u001b[0m\n\u001b[0;32m     17\u001b[0m \u001b[1;33m\u001b[0m\u001b[0m\n\u001b[0;32m     18\u001b[0m edge_labels=dict([((u,v,),d['capacity'])\n\u001b[1;32m---> 19\u001b[1;33m                  for u,v,d in G.edges(data=True)])\n\u001b[0m\u001b[0;32m     20\u001b[0m \u001b[1;33m\u001b[0m\u001b[0m\n\u001b[0;32m     21\u001b[0m \u001b[0mpos\u001b[0m\u001b[1;33m=\u001b[0m\u001b[0mnx\u001b[0m\u001b[1;33m.\u001b[0m\u001b[0mspring_layout\u001b[0m\u001b[1;33m(\u001b[0m\u001b[0mG\u001b[0m\u001b[1;33m)\u001b[0m\u001b[1;33m\u001b[0m\u001b[1;33m\u001b[0m\u001b[0m\n",
      "\u001b[1;31mKeyError\u001b[0m: 'capacity'"
     ]
    }
   ],
   "source": [
    "np.random.seed(0)\n",
    "\n",
    "G = nx.DiGraph()\n",
    "\n",
    "G.add_node('A', demand=-1)\n",
    "G.add_node('G', demand=1)\n",
    "G.add_edges_from([('B', 'E')], weight=1)\n",
    "G.add_edges_from([('D', 'B')], weight=1)\n",
    "G.add_edges_from([('A', 'D')], weight=2)\n",
    "G.add_edges_from([('B', 'C')], weight=3)\n",
    "G.add_edges_from([('E', 'G')], weight=2)\n",
    "G.add_edges_from([('E', 'C')], weight=3)\n",
    "G.add_edges_from([('C', 'D')], weight=2)\n",
    "G.add_edges_from([('D', 'F')], weight=3)\n",
    "G.add_edges_from([('D', 'E')], weight=2)\n",
    "\n",
    "\n",
    "edge_labels=dict([((u,v,),d['weight'])\n",
    "                 for u,v,d in G.edges(data=True)])\n",
    "\n",
    "pos=nx.spring_layout(G)\n",
    "nx.draw_networkx_edge_labels(G,pos,edge_labels=edge_labels)\n",
    "nx.draw(G, pos, with_labels = True)\n",
    "plt.draw()"
   ]
  },
  {
   "cell_type": "code",
   "execution_count": 60,
   "metadata": {},
   "outputs": [
    {
     "name": "stdout",
     "output_type": "stream",
     "text": [
      "Le cout optimal est : 4\n",
      "  Arc    Flot / Capacité  Cout\n",
      "B -> E     0  /   1         0\n",
      "D -> B     0  /   1         0\n",
      "A -> D     1  /   2         1\n",
      "B -> C     0  /   3         0\n",
      "E -> G     1  /   2         2\n",
      "E -> C     0  /   3         0\n",
      "C -> D     0  /   2         0\n",
      "D -> F     0  /   3         0\n",
      "D -> E     1  /   2         1\n",
      "D -> B     0  /   1         0\n"
     ]
    },
    {
     "data": {
      "image/png": "[encoded data removed]",
      "text/plain": [
       "<Figure size 432x288 with 1 Axes>"
      ]
     },
     "metadata": {},
     "output_type": "display_data"
    }
   ],
   "source": [
    "def main():\n",
    "    arc_depart = [1, 3, 0, 1, 4, 4, 2, 3, 3, 3]\n",
    "    arc_arrivee = [4, 1, 3, 2, 6, 2, 3, 5, 4, 1]\n",
    "    cout = [1, 0, 1, 2, 2, 1, 2, 2, 1, 0]\n",
    "    capa = [1, 1, 2, 3, 2, 3, 2, 3, 2, 1]\n",
    "    \n",
    "    offre = [1, 0, 0, 0, 0, 0, -1]\n",
    "\n",
    "    min_cost_flow = pywrapgraph.SimpleMinCostFlow()\n",
    "\n",
    "    for i in range(0, len(arc_depart)):\n",
    "        min_cost_flow.AddArcWithCapacityAndUnitCost(arc_depart[i], arc_arrivee[i],\n",
    "                                                    capa[i], cout[i])\n",
    "\n",
    "    for i in range(0, len(offre)):\n",
    "        min_cost_flow.SetNodeSupply(i, offre[i])\n",
    "\n",
    "        # Find the minimum cost flow between node 0 and node 4.\n",
    "    if min_cost_flow.Solve() == min_cost_flow.OPTIMAL:\n",
    "        print('Le cout optimal est :', min_cost_flow.OptimalCost())\n",
    "        print('  Arc    Flot / Capacité  Cout')\n",
    "        for i in range(min_cost_flow.NumArcs()):\n",
    "            debutArc = string.ascii_uppercase[min_cost_flow.Tail(i)]\n",
    "            finArc = string.ascii_uppercase[min_cost_flow.Head(i)]\n",
    "            flot = min_cost_flow.Flow(i)\n",
    "            capacite = min_cost_flow.Capacity(i)\n",
    "            cost = flot * min_cost_flow.UnitCost(i)\n",
    "            print('%1s -> %1s   %3s  / %3s       %3s' % (\n",
    "                debutArc,\n",
    "                finArc,\n",
    "                flot,\n",
    "                capacite,\n",
    "                cost))\n",
    "    else:\n",
    "        print('Probleme avec le input.')\n",
    "\n",
    "\n",
    "if __name__ == '__main__':\n",
    "    main()\n",
    "\n",
    "nx.draw_networkx_edge_labels(G,pos,edge_labels=edge_labels)\n",
    "nx.draw(G, pos, with_labels = True)\n",
    "plt.draw()"
   ]
  },
  {
   "cell_type": "code",
   "execution_count": 61,
   "metadata": {},
   "outputs": [
    {
     "data": {
      "text/plain": [
       "['A', 'D', 'E', 'G']"
      ]
     },
     "execution_count": 61,
     "metadata": {},
     "output_type": "execute_result"
    }
   ],
   "source": [
    "# Permet d'afficher le plus court chemin entre A et G\n",
    "nx.shortest_path(G,'A','G')"
   ]
  },
  {
   "cell_type": "code",
   "execution_count": 62,
   "metadata": {},
   "outputs": [
    {
     "name": "stdout",
     "output_type": "stream",
     "text": [
      "['A', 'D', 'B', 'E', 'G']\n",
      "['A', 'D', 'E', 'G']\n"
     ]
    }
   ],
   "source": [
    "# Permet de faire apparaître tous les chemins qui existent entre s1 et t1\n",
    "for path in nx.all_simple_paths(G, source='A', target='G'):\n",
    "    print(path)"
   ]
  },
  {
   "cell_type": "code",
   "execution_count": 63,
   "metadata": {},
   "outputs": [
    {
     "data": {
      "text/plain": [
       "{'A': {'D': 1},\n",
       " 'G': {},\n",
       " 'B': {'E': 0, 'C': 0},\n",
       " 'E': {'G': 1, 'C': 0},\n",
       " 'D': {'B': 0, 'F': 0, 'E': 1},\n",
       " 'C': {'D': 0},\n",
       " 'F': {}}"
      ]
     },
     "execution_count": 63,
     "metadata": {},
     "output_type": "execute_result"
    }
   ],
   "source": [
    "nx.min_cost_flow(G)"
   ]
  },
  {
   "cell_type": "code",
   "execution_count": null,
   "metadata": {},
   "outputs": [],
   "source": []
  },
  {
   "cell_type": "code",
   "execution_count": null,
   "metadata": {},
   "outputs": [],
   "source": []
  },
  {
   "cell_type": "code",
   "execution_count": 58,
   "metadata": {},
   "outputs": [
    {
     "data": {
      "image/png": "[encoded data removed]",
      "text/plain": [
       "<Figure size 432x288 with 1 Axes>"
      ]
     },
     "metadata": {},
     "output_type": "display_data"
    }
   ],
   "source": [
    "np.random.seed(0)\n",
    "\n",
    "G = nx.DiGraph()\n",
    "\n",
    "G.add_node(\"s1\", demand=-7)\n",
    "G.add_node(\"t1\", demand=7)\n",
    "G.add_edges_from([('s1', '1')], weight=9, capacity=10)\n",
    "G.add_edges_from([('s1', '2')], weight=3, capacity=4)\n",
    "G.add_edges_from([('1', '3')], weight=7, capacity=8)\n",
    "G.add_edges_from([('1', '5')], weight=2, capacity=3)\n",
    "G.add_edges_from([('2', '3')], weight=1, capacity=2)\n",
    "G.add_edges_from([('2', '4')], weight=4, capacity=7)\n",
    "G.add_edges_from([('3', '4')], weight=5, capacity=6)\n",
    "G.add_edges_from([('3', '5')], weight=2, capacity=4)\n",
    "G.add_edges_from([('5', 't1')], weight=7, capacity=8)\n",
    "G.add_edges_from([('4', 't1')], weight=10, capacity=11)\n",
    "\n",
    "\n",
    "edge_labels=dict([((u,v,),d['weight'])\n",
    "                 for u,v,d in G.edges(data=True)])\n",
    "\n",
    "pos=nx.spring_layout(G)\n",
    "nx.draw_networkx_edge_labels(G,pos,edge_labels=edge_labels)\n",
    "nx.draw(G, pos, with_labels = True)\n",
    "plt.draw()"
   ]
  },
  {
   "cell_type": "code",
   "execution_count": 7,
   "metadata": {},
   "outputs": [
    {
     "data": {
      "text/plain": [
       "['s1', '1', '5', 't1']"
      ]
     },
     "execution_count": 7,
     "metadata": {},
     "output_type": "execute_result"
    }
   ],
   "source": [
    "# Permet d'afficher le plus court chemin entre s1 et t1\n",
    "nx.shortest_path(G,'s1','t1')"
   ]
  },
  {
   "cell_type": "code",
   "execution_count": 8,
   "metadata": {},
   "outputs": [
    {
     "name": "stdout",
     "output_type": "stream",
     "text": [
      "['s1', '1', '3', '4', 't1']\n",
      "['s1', '1', '3', '5', 't1']\n",
      "['s1', '1', '5', 't1']\n",
      "['s1', '2', '3', '4', 't1']\n",
      "['s1', '2', '3', '5', 't1']\n",
      "['s1', '2', '4', 't1']\n"
     ]
    }
   ],
   "source": [
    "# Permet de faire apparaître tous les chemins qui existent entre s1 et t1\n",
    "for path in nx.all_simple_paths(G, source='s1', target='t1'):\n",
    "    print(path)"
   ]
  },
  {
   "cell_type": "code",
   "execution_count": 9,
   "metadata": {},
   "outputs": [
    {
     "data": {
      "text/plain": [
       "{'s1': {'1': 3, '2': 4},\n",
       " 't1': {},\n",
       " '1': {'3': 0, '5': 3},\n",
       " '2': {'3': 2, '4': 2},\n",
       " '3': {'4': 0, '5': 2},\n",
       " '5': {'t1': 5},\n",
       " '4': {'t1': 2}}"
      ]
     },
     "execution_count": 9,
     "metadata": {},
     "output_type": "execute_result"
    }
   ],
   "source": [
    "nx.min_cost_flow(G)"
   ]
  },
  {
   "cell_type": "code",
   "execution_count": null,
   "metadata": {},
   "outputs": [],
   "source": []
  },
  {
   "cell_type": "markdown",
   "metadata": {},
   "source": [
    "### Code Samy"
   ]
  },
  {
   "cell_type": "code",
   "execution_count": 18,
   "metadata": {},
   "outputs": [
    {
     "name": "stdout",
     "output_type": "stream",
     "text": [
      "Le cout optimal est : 150\n",
      "  Arc    Flot / Capacité  Cout\n",
      "A -> B    12  /  15        48\n",
      "A -> C     8  /   8        32\n",
      "B -> C     8  /  20        16\n",
      "B -> D     4  /   4         8\n",
      "B -> E     0  /  10         0\n",
      "C -> D    12  /  15        12\n",
      "C -> E     4  /   4        12\n",
      "D -> E    11  /  20        22\n",
      "E -> C     0  /   5         0\n"
     ]
    }
   ],
   "source": [
    "def main():\n",
    "    arc_depart = [0, 0, 1, 1, 1, 2, 2, 3, 4]\n",
    "    arc_arrivee = [1, 2, 2, 3, 4, 3, 4, 4, 2]\n",
    "    cout = [4, 4, 2, 2, 6, 1, 3, 2, 3]\n",
    "    capa = [15, 8, 20, 4, 10, 15, 4, 20, 5]\n",
    "    \n",
    "    offre = [20, 0, 0, -5, -15]\n",
    "\n",
    "    min_cost_flow = pywrapgraph.SimpleMinCostFlow()\n",
    "\n",
    "    for i in range(0, len(arc_depart)):\n",
    "        min_cost_flow.AddArcWithCapacityAndUnitCost(arc_depart[i], arc_arrivee[i],\n",
    "                                                    capa[i], cout[i])\n",
    "\n",
    "    for i in range(0, len(offre)):\n",
    "        min_cost_flow.SetNodeSupply(i, offre[i])\n",
    "\n",
    "        # Find the minimum cost flow between node 0 and node 4.\n",
    "    if min_cost_flow.Solve() == min_cost_flow.OPTIMAL:\n",
    "        print('Le cout optimal est :', min_cost_flow.OptimalCost())\n",
    "        print('  Arc    Flot / Capacité  Cout')\n",
    "        for i in range(min_cost_flow.NumArcs()):\n",
    "            debutArc = string.ascii_uppercase[min_cost_flow.Tail(i)]\n",
    "            finArc = string.ascii_uppercase[min_cost_flow.Head(i)]\n",
    "            flot = min_cost_flow.Flow(i)\n",
    "            capacite = min_cost_flow.Capacity(i)\n",
    "            cost = flot * min_cost_flow.UnitCost(i)\n",
    "            print('%1s -> %1s   %3s  / %3s       %3s' % (\n",
    "                debutArc,\n",
    "                finArc,\n",
    "                flot,\n",
    "                capacite,\n",
    "                cost))\n",
    "    else:\n",
    "        print('Probleme avec le input.')\n",
    "\n",
    "\n",
    "if __name__ == '__main__':\n",
    "    main()"
   ]
  },
  {
   "cell_type": "code",
   "execution_count": 78,
   "metadata": {},
   "outputs": [
    {
     "data": {
      "image/png": "[encoded data removed]",
      "text/plain": [
       "<Figure size 432x288 with 1 Axes>"
      ]
     },
     "metadata": {},
     "output_type": "display_data"
    }
   ],
   "source": [
    "np.random.seed(4)\n",
    "\n",
    "G = nx.DiGraph()\n",
    "\n",
    "G.add_node('A', demand=-20)\n",
    "G.add_node('D', demand=5)\n",
    "G.add_node('E', demand=15)\n",
    "G.add_edges_from([('A', 'B')], weight=1, capacity=15)\n",
    "G.add_edges_from([('A', 'C')], weight=1, capacity=8)\n",
    "G.add_edges_from([('B', 'C')], weight=2, capacity=20)\n",
    "G.add_edges_from([('B', 'D')], weight=3, capacity=4)\n",
    "G.add_edges_from([('B', 'E')], weight=2, capacity=10)\n",
    "G.add_edges_from([('C', 'D')], weight=3, capacity=15)\n",
    "G.add_edges_from([('C', 'E')], weight=2, capacity=4)\n",
    "G.add_edges_from([('D', 'E')], weight=3, capacity=20)\n",
    "G.add_edges_from([('E', 'C')], weight=2, capacity=5)\n",
    "\n",
    "\n",
    "edge_labels=dict([((u,v,),d['capacity'])\n",
    "                 for u,v,d in G.edges(data=True)])\n",
    "\n",
    "pos=nx.spring_layout(G)\n",
    "nx.draw_networkx_edge_labels(G,pos,edge_labels=edge_labels)\n",
    "nx.draw(G, pos, with_labels = True)\n",
    "plt.draw()"
   ]
  },
  {
   "cell_type": "code",
   "execution_count": 90,
   "metadata": {},
   "outputs": [
    {
     "name": "stdout",
     "output_type": "stream",
     "text": [
      "Plus court chemin entre A et D : \n",
      "['A', 'B', 'D']\n",
      "Plus court chemin entre A et E : \n",
      "['A', 'B', 'E']\n"
     ]
    }
   ],
   "source": [
    "# Permet d'afficher le plus court chemin entre A et D\n",
    "print('Plus court chemin entre A et D : ')\n",
    "print(nx.shortest_path(G,'A','D'))\n",
    "# Permet d'afficher le plus court chemin entre A et D\n",
    "print('Plus court chemin entre A et E : ')\n",
    "print(nx.shortest_path(G,'A','E'))"
   ]
  },
  {
   "cell_type": "code",
   "execution_count": 89,
   "metadata": {},
   "outputs": [
    {
     "name": "stdout",
     "output_type": "stream",
     "text": [
      "Tous les chemins qui existent entre A et D : \n",
      "['A', 'B', 'C', 'D']\n",
      "['A', 'B', 'D']\n",
      "['A', 'B', 'E', 'C', 'D']\n",
      "['A', 'C', 'D']\n",
      "Tous les chemins qui existent entre A et E : \n",
      "['A', 'B', 'C', 'D', 'E']\n",
      "['A', 'B', 'C', 'E']\n",
      "['A', 'B', 'D', 'E']\n",
      "['A', 'B', 'E']\n",
      "['A', 'C', 'D', 'E']\n",
      "['A', 'C', 'E']\n"
     ]
    }
   ],
   "source": [
    "# Permet de faire apparaître tous les chemins qui existent entre A et D\n",
    "print('Tous les chemins qui existent entre A et D : ')\n",
    "for path in nx.all_simple_paths(G, source='A', target='D'):\n",
    "    print(path)\n",
    "# Permet de faire apparaître tous les chemins qui existent entre A et E\n",
    "print('Tous les chemins qui existent entre A et E : ')\n",
    "for path in nx.all_simple_paths(G, source='A', target='E'):\n",
    "    print(path)"
   ]
  },
  {
   "cell_type": "code",
   "execution_count": 91,
   "metadata": {},
   "outputs": [
    {
     "data": {
      "text/plain": [
       "{'A': {'B': 12, 'C': 8},\n",
       " 'D': {'E': 1},\n",
       " 'E': {'C': 0},\n",
       " 'B': {'C': 0, 'D': 2, 'E': 10},\n",
       " 'C': {'D': 4, 'E': 4}}"
      ]
     },
     "execution_count": 91,
     "metadata": {},
     "output_type": "execute_result"
    }
   ],
   "source": [
    "nx.min_cost_flow(G)"
   ]
  },
  {
   "cell_type": "code",
   "execution_count": null,
   "metadata": {},
   "outputs": [],
   "source": []
  }
 ],
 "metadata": {
  "kernelspec": {
   "display_name": "Python 3",
   "language": "python",
   "name": "python3"
  },
  "language_info": {
   "codemirror_mode": {
    "name": "ipython",
    "version": 3
   },
   "file_extension": ".py",
   "mimetype": "text/x-python",
   "name": "python",
   "nbconvert_exporter": "python",
   "pygments_lexer": "ipython3",
   "version": "3.7.3"
  }
 },
 "nbformat": 4,
 "nbformat_minor": 2
}
